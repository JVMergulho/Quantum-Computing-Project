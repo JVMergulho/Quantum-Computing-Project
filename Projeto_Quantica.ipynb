{
  "nbformat": 4,
  "nbformat_minor": 0,
  "metadata": {
    "colab": {
      "provenance": [],
      "include_colab_link": true
    },
    "kernelspec": {
      "name": "python3",
      "display_name": "Python 3"
    },
    "language_info": {
      "name": "python"
    }
  },
  "cells": [
    {
      "cell_type": "markdown",
      "metadata": {
        "id": "view-in-github",
        "colab_type": "text"
      },
      "source": [
        "<a href=\"https://colab.research.google.com/github/JVMergulho/Quantum-Computing-Project/blob/main/Projeto_Quantica.ipynb\" target=\"_parent\"><img src=\"https://colab.research.google.com/assets/colab-badge.svg\" alt=\"Open In Colab\"/></a>"
      ]
    },
    {
      "cell_type": "markdown",
      "source": [
        "# Projeto de Computação Quântica - CIN0039\n",
        "\n",
        "\n",
        "**Grupo:**\n",
        "* Amanda Arruda (aams2)\n",
        "* João Vitor Mergulhão (jvlm2)\n",
        "* Ricardo Bizerra (rblf)"
      ],
      "metadata": {
        "id": "rn0_dOWSwvx8"
      }
    },
    {
      "cell_type": "markdown",
      "source": [
        "# Enunciado\n",
        "\n",
        "### **Problema:**\n",
        "Dado um oráculo que implementa a função $f: \\{0,1\\}^{n} \\rightarrow \\{0,1\\}$, na qual $f(x)$ é prometido ser o produto escalar entre $x$ e uma string secreta $s\\in \\{0,1\\}^{n}$ mod 2, $f(x)=x\\cdot s=x_{1}s_{1}\\oplus x_{2}s_{2}\\oplus \\cdots \\oplus x_{n}s_{n}$, encontre $s$.\n",
        "\n",
        "---\n",
        "\n",
        "### **Pseudocódigo:**\n",
        "\n",
        "1.   Criar um circuito com n qubits de entrada e 1 qubit auxiliar\n",
        "2.   Aplicar Hadamard em todos os qubits de entrada\n",
        "3. Aplicar o oráculo:\n",
        "  - Para cada bit da string s igual a '1', aplicar CX entre o qubit de entrada correspondente e o qubit auxiliar.\n",
        "4. Aplicar Hadamard novamente em todos os qubits de entrada\n",
        "Medir os qubits de entrada.\n",
        "5. Medir os qubits de entrada.\n",
        "6. O resultado da medição é a string secreta s\n",
        "\n",
        "---\n",
        "\n",
        "### **Diferença de Complexidade: Computação Clássica vs Quântica**\n",
        "\n",
        "#### Computação Clássica\n",
        "\n",
        "- Queremos descobrir uma string secreta `s` de `n` bits.\n",
        "- No modelo clássico, precisamos **consultar a função $f$ para diferentes valores de `x`.\n",
        "- Para descobrir cada bit de `s`, fazemos \\( n \\) chamadas ao oráculo, uma para cada posição.\n",
        "\n",
        "Exemplo:\n",
        "- Testa \\( x = 100 \\) → retorna \\( s_0 \\)\n",
        "- Testa \\( x = 010 \\) → retorna \\( s_1 \\)\n",
        "- E assim por diante...\n",
        "\n",
        "**Complexidade clássica:**\n",
        "\\[\n",
        "\\${O}(n)$\n",
        "\\]\n",
        "\n",
        "#### Computação Quântica\n",
        "\n",
        "- Utiliza \\( n \\) qubits de entrada + 1 qubit auxiliar.\n",
        "- Aplica Hadamard para colocar os qubits de entrada em superposição.\n",
        "- Executa **uma única chamada** ao oráculo quântico.\n",
        "- A função \\( f(x) = s \\cdot x \\mod 2 \\) é codificada nas fases dos estados quânticos.\n",
        "- Após aplicar Hadamard novamente, a medição dos qubits de entrada revela diretamente a string `s`.\n",
        "\n",
        "**Complexidade quântica:**\n",
        "\\[\n",
        "\\${O}(1)$\n",
        "\\]\n",
        "\n",
        "---\n",
        "\n",
        "**Artigo:** [Quantum complexity theory - Bernstein, Vazirani - ACM STOC 1993](https://dl.acm.org/doi/pdf/10.1145/167088.167097)\n",
        "\n",
        "**Circuito:**\n",
        "\n",
        "![Imagem](https://upload.wikimedia.org/wikipedia/commons/7/79/Bernstein-Vazirani_algorithm_circuit_in_Qiskit.png)"
      ],
      "metadata": {
        "id": "nU30bG0FOIHr"
      }
    },
    {
      "cell_type": "markdown",
      "source": [
        "# Importação Qiskit"
      ],
      "metadata": {
        "id": "5oIuxLDFws47"
      }
    },
    {
      "cell_type": "code",
      "source": [
        "%pip install qiskit qiskit-aer"
      ],
      "metadata": {
        "colab": {
          "base_uri": "https://localhost:8080/"
        },
        "id": "Mb-e8_JTNpCW",
        "outputId": "b65ef1c3-e430-4ec7-bfe5-2191bb6ec9f9",
        "collapsed": true
      },
      "execution_count": null,
      "outputs": [
        {
          "output_type": "stream",
          "name": "stdout",
          "text": [
            "Requirement already satisfied: qiskit in /usr/local/lib/python3.11/dist-packages (2.1.1)\n",
            "Requirement already satisfied: qiskit-aer in /usr/local/lib/python3.11/dist-packages (0.17.1)\n",
            "Requirement already satisfied: rustworkx>=0.15.0 in /usr/local/lib/python3.11/dist-packages (from qiskit) (0.16.0)\n",
            "Requirement already satisfied: numpy<3,>=1.17 in /usr/local/lib/python3.11/dist-packages (from qiskit) (2.0.2)\n",
            "Requirement already satisfied: scipy>=1.5 in /usr/local/lib/python3.11/dist-packages (from qiskit) (1.16.0)\n",
            "Requirement already satisfied: dill>=0.3 in /usr/local/lib/python3.11/dist-packages (from qiskit) (0.3.8)\n",
            "Requirement already satisfied: stevedore>=3.0.0 in /usr/local/lib/python3.11/dist-packages (from qiskit) (5.4.1)\n",
            "Requirement already satisfied: typing-extensions in /usr/local/lib/python3.11/dist-packages (from qiskit) (4.14.1)\n",
            "Requirement already satisfied: psutil>=5 in /usr/local/lib/python3.11/dist-packages (from qiskit-aer) (5.9.5)\n",
            "Requirement already satisfied: python-dateutil>=2.8.0 in /usr/local/lib/python3.11/dist-packages (from qiskit-aer) (2.9.0.post0)\n",
            "Requirement already satisfied: six>=1.5 in /usr/local/lib/python3.11/dist-packages (from python-dateutil>=2.8.0->qiskit-aer) (1.17.0)\n",
            "Requirement already satisfied: pbr>=2.0.0 in /usr/local/lib/python3.11/dist-packages (from stevedore>=3.0.0->qiskit) (6.1.1)\n",
            "Requirement already satisfied: setuptools in /usr/local/lib/python3.11/dist-packages (from pbr>=2.0.0->stevedore>=3.0.0->qiskit) (75.2.0)\n"
          ]
        }
      ]
    },
    {
      "cell_type": "code",
      "source": [
        "print('Versões utilizadas neste projeto'.upper())\n",
        "print('================================')\n",
        "print('Biblioteca      Versão'.upper())\n",
        "\n",
        "from qiskit import __version__ as qiskit_version\n",
        "print(f'qiskit          {qiskit_version}')\n",
        "\n",
        "from qiskit_aer import __version__ as qiskit_aer_version\n",
        "print(f'qiskit-aer      {qiskit_aer_version}')"
      ],
      "metadata": {
        "colab": {
          "base_uri": "https://localhost:8080/"
        },
        "id": "hU-1lIZ7ou7R",
        "outputId": "cec01685-9838-4af9-9b42-33dd62da97a2"
      },
      "execution_count": null,
      "outputs": [
        {
          "output_type": "stream",
          "name": "stdout",
          "text": [
            "VERSÕES UTILIZADAS NESTE PROJETO\n",
            "================================\n",
            "BIBLIOTECA      VERSÃO\n",
            "qiskit          2.1.1\n",
            "qiskit-aer      0.17.1\n"
          ]
        }
      ]
    },
    {
      "cell_type": "code",
      "execution_count": null,
      "metadata": {
        "id": "Pvds5nTGwIyp"
      },
      "outputs": [],
      "source": [
        "from qiskit.circuit import QuantumCircuit\n",
        "from qiskit.compiler import transpile\n",
        "from qiskit.visualization import plot_histogram\n",
        "\n",
        "from qiskit_aer.noise import NoiseModel, depolarizing_error, thermal_relaxation_error\n",
        "from qiskit_aer import AerSimulator\n",
        "\n",
        "import random"
      ]
    },
    {
      "cell_type": "markdown",
      "source": [
        "# Implementação"
      ],
      "metadata": {
        "id": "5NHXqrGawqcO"
      }
    },
    {
      "cell_type": "markdown",
      "source": [
        "## Funções"
      ],
      "metadata": {
        "id": "3ysniTFWv-Rh"
      }
    },
    {
      "cell_type": "code",
      "source": [
        "def generate_binary_string(n):\n",
        "    # gera número aleatório com n bits\n",
        "    number = random.getrandbits(n)\n",
        "\n",
        "    # converto o número para uma string binária\n",
        "    binary_string = format(number, '0b')\n",
        "\n",
        "    return binary_string"
      ],
      "metadata": {
        "id": "ShrNuszCgvzt"
      },
      "execution_count": null,
      "outputs": []
    },
    {
      "cell_type": "code",
      "source": [
        "def bersteinVaziraniCircuit(n = 0, secret = ''):\n",
        "  '''\n",
        "    Cria um circuito quântico para o algoritmo de Bernstein–Vazirani.\n",
        "\n",
        "    Parâmetros:\n",
        "    n (int): Número de bits/qubits da string secreta. Ignorado se `secret` for fornecida.\n",
        "    secret (str): String binária secreta. Se vazia, uma string aleatória de tamanho `n` será gerada.\n",
        "\n",
        "    Retorna:\n",
        "      QuantumCircuit: O circuito quântico correspondente ao algoritmo.\n",
        "  '''\n",
        "\n",
        "  if len(secret) == 0:\n",
        "    # gera string secreta\n",
        "    secret = generate_binary_string(n)\n",
        "    print(f\"String secreta gerada: {secret}\")\n",
        "  else:\n",
        "    n = len(secret)\n",
        "\n",
        "  circuit = QuantumCircuit(n + 1, n)\n",
        "\n",
        "  # coloca os qubits de entrada em superposição uniforme\n",
        "  for i in range(n):\n",
        "    circuit.h(i)\n",
        "\n",
        "  circuit.x(n)\n",
        "  circuit.h(n)\n",
        "\n",
        "  circuit.barrier()\n",
        "\n",
        "  # aplica a função f(x) = s.x(mod 2)\n",
        "  i = n - 1\n",
        "  for q in secret:\n",
        "    if q == '1':\n",
        "      circuit.cx(i, n)\n",
        "\n",
        "    i -= 1\n",
        "\n",
        "  circuit.barrier()\n",
        "\n",
        "  for i in range(n):\n",
        "    circuit.h(i)\n",
        "\n",
        "  # mede os qubits de entrada\n",
        "  for i in range(n):\n",
        "    circuit.measure(i, i)\n",
        "\n",
        "  return circuit"
      ],
      "metadata": {
        "id": "ppD897iy66bo"
      },
      "execution_count": null,
      "outputs": []
    },
    {
      "cell_type": "code",
      "source": [
        "def simulateCircuit(circuit, n_shots=1000):\n",
        "  simulator = AerSimulator()\n",
        "  compiled_circuit = transpile(circuit, simulator)\n",
        "  result = simulator.run(compiled_circuit, shots=n_shots).result()\n",
        "\n",
        "  counts = result.get_counts()\n",
        "\n",
        "  return counts"
      ],
      "metadata": {
        "id": "C9DMXxDLqFyb"
      },
      "execution_count": null,
      "outputs": []
    },
    {
      "cell_type": "code",
      "source": [
        "def simulateNoisyCircuit(circuit, n_shots=1000):\n",
        "  noise_model = NoiseModel()\n",
        "\n",
        "  # portas de 1 qubit com 1% de chance de erro\n",
        "  # portas de 2 qubits com 2% de chance de erro\n",
        "\n",
        "  error_1q = depolarizing_error(0.01, 1)\n",
        "  error_2q = depolarizing_error(0.02, 2)\n",
        "\n",
        "  # Aplicar a certas portas\n",
        "  noise_model.add_all_qubit_quantum_error(error_1q, ['x', 'h'])\n",
        "  noise_model.add_all_qubit_quantum_error(error_2q, ['cx'])\n",
        "\n",
        "  simulator = AerSimulator(noise_model=noise_model)\n",
        "\n",
        "  compiled = transpile(circuit, simulator)\n",
        "  result = simulator.run(compiled, shots=n_shots).result()\n",
        "  counts = result.get_counts()\n",
        "\n",
        "  return counts"
      ],
      "metadata": {
        "id": "xzdwtowlq2D8"
      },
      "execution_count": null,
      "outputs": []
    },
    {
      "cell_type": "markdown",
      "source": [
        "## Cria o Circuito"
      ],
      "metadata": {
        "id": "Cq9yzllKpw1v"
      }
    },
    {
      "cell_type": "code",
      "source": [
        "circuit = bersteinVaziraniCircuit(n=8)"
      ],
      "metadata": {
        "colab": {
          "base_uri": "https://localhost:8080/"
        },
        "id": "8z0jd00DgfZJ",
        "outputId": "2014a368-527b-401b-9d6c-0e9568fe789c"
      },
      "execution_count": null,
      "outputs": [
        {
          "output_type": "stream",
          "name": "stdout",
          "text": [
            "String secreta gerada: 10110\n"
          ]
        }
      ]
    },
    {
      "cell_type": "code",
      "source": [
        "print(circuit)"
      ],
      "metadata": {
        "colab": {
          "base_uri": "https://localhost:8080/"
        },
        "id": "By8y320K7zNe",
        "outputId": "1481c701-c419-44db-a26a-88eda06af67f"
      },
      "execution_count": null,
      "outputs": [
        {
          "output_type": "stream",
          "name": "stdout",
          "text": [
            "     ┌───┐      ░                 ░ ┌───┐┌─┐                     \n",
            "q_0: ┤ H ├──────░─────────────────░─┤ H ├┤M├─────────────────────\n",
            "     ├───┤      ░                 ░ ├───┤└╥┘┌─┐                  \n",
            "q_1: ┤ H ├──────░─────────────────░─┤ H ├─╫─┤M├──────────────────\n",
            "     ├───┤      ░                 ░ ├───┤ ║ └╥┘┌─┐               \n",
            "q_2: ┤ H ├──────░─────────────────░─┤ H ├─╫──╫─┤M├───────────────\n",
            "     ├───┤      ░                 ░ ├───┤ ║  ║ └╥┘┌─┐            \n",
            "q_3: ┤ H ├──────░─────────────────░─┤ H ├─╫──╫──╫─┤M├────────────\n",
            "     ├───┤      ░                 ░ ├───┤ ║  ║  ║ └╥┘┌─┐         \n",
            "q_4: ┤ H ├──────░─────────────■───░─┤ H ├─╫──╫──╫──╫─┤M├─────────\n",
            "     ├───┤      ░             │   ░ ├───┤ ║  ║  ║  ║ └╥┘┌─┐      \n",
            "q_5: ┤ H ├──────░────────■────┼───░─┤ H ├─╫──╫──╫──╫──╫─┤M├──────\n",
            "     ├───┤      ░        │    │   ░ ├───┤ ║  ║  ║  ║  ║ └╥┘┌─┐   \n",
            "q_6: ┤ H ├──────░────────┼────┼───░─┤ H ├─╫──╫──╫──╫──╫──╫─┤M├───\n",
            "     ├───┤      ░        │    │   ░ ├───┤ ║  ║  ║  ║  ║  ║ └╥┘┌─┐\n",
            "q_7: ┤ H ├──────░───■────┼────┼───░─┤ H ├─╫──╫──╫──╫──╫──╫──╫─┤M├\n",
            "     ├───┤┌───┐ ░ ┌─┴─┐┌─┴─┐┌─┴─┐ ░ └───┘ ║  ║  ║  ║  ║  ║  ║ └╥┘\n",
            "q_8: ┤ X ├┤ H ├─░─┤ X ├┤ X ├┤ X ├─░───────╫──╫──╫──╫──╫──╫──╫──╫─\n",
            "     └───┘└───┘ ░ └───┘└───┘└───┘ ░       ║  ║  ║  ║  ║  ║  ║  ║ \n",
            "c: 8/═════════════════════════════════════╩══╩══╩══╩══╩══╩══╩══╩═\n",
            "                                          0  1  2  3  4  5  6  7 \n"
          ]
        }
      ]
    },
    {
      "cell_type": "markdown",
      "source": [
        "## Simula o circuito"
      ],
      "metadata": {
        "id": "6IHfdgdmqktv"
      }
    },
    {
      "cell_type": "code",
      "source": [
        "result_counts = simulateCircuit(circuit)\n",
        "\n",
        "plot_histogram(result_counts)"
      ],
      "metadata": {
        "colab": {
          "base_uri": "https://localhost:8080/",
          "height": 487
        },
        "id": "ya_u9KB69nzr",
        "outputId": "72fc3beb-2fa9-4590-d216-3fe62bcdc33f"
      },
      "execution_count": null,
      "outputs": [
        {
          "output_type": "execute_result",
          "data": {
            "text/plain": [
              "<Figure size 640x480 with 1 Axes>"
            ],
            "image/png": "[encoded data removed]"
          },
          "metadata": {},
          "execution_count": 64
        }
      ]
    },
    {
      "cell_type": "code",
      "source": [
        "noisy_result_counts = simulateNoisyCircuit(circuit)\n",
        "\n",
        "plot_histogram(noisy_result_counts)\n"
      ],
      "metadata": {
        "colab": {
          "base_uri": "https://localhost:8080/",
          "height": 487
        },
        "id": "P4oLCriQhEnU",
        "outputId": "1c4f94f5-1058-468b-a57f-59d8bf9957b9"
      },
      "execution_count": null,
      "outputs": [
        {
          "output_type": "execute_result",
          "data": {
            "text/plain": [
              "<Figure size 640x480 with 1 Axes>"
            ],
            "image/png": "[encoded data removed]"
          },
          "metadata": {},
          "execution_count": 65
        }
      ]
    }
  ]
}